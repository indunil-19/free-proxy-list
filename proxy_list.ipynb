{
  "nbformat": 4,
  "nbformat_minor": 0,
  "metadata": {
    "colab": {
      "provenance": [],
      "include_colab_link": true
    },
    "kernelspec": {
      "name": "python3",
      "display_name": "Python 3"
    },
    "language_info": {
      "name": "python"
    }
  },
  "cells": [
    {
      "cell_type": "markdown",
      "metadata": {
        "id": "view-in-github",
        "colab_type": "text"
      },
      "source": [
        "<a href=\"https://colab.research.google.com/github/indunil-19/free-proxy-list/blob/main/proxy_list.ipynb\" target=\"_parent\"><img src=\"https://colab.research.google.com/assets/colab-badge.svg\" alt=\"Open In Colab\"/></a>"
      ]
    },
    {
      "cell_type": "code",
      "execution_count": 16,
      "metadata": {
        "id": "xzCzUm2x8T8-"
      },
      "outputs": [],
      "source": [
        "import requests\n",
        "from bs4 import BeautifulSoup"
      ]
    },
    {
      "cell_type": "code",
      "source": [
        "r = requests.get('https://free-proxy-list.net/')\n",
        "soup = BeautifulSoup(r.content, 'html.parser')"
      ],
      "metadata": {
        "id": "Lq2kQKTX8tsZ"
      },
      "execution_count": 17,
      "outputs": []
    },
    {
      "cell_type": "code",
      "source": [
        "entries = []\n",
        "table = soup.find('table', class_ = 'table table-striped table-bordered')"
      ],
      "metadata": {
        "id": "F_VMeHQh8xxY"
      },
      "execution_count": 18,
      "outputs": []
    },
    {
      "cell_type": "code",
      "source": [
        "table_rows = table.find_all('tr')\n",
        "table_rows = table_rows[1:]\n"
      ],
      "metadata": {
        "id": "Mo_p8E5b9TxZ"
      },
      "execution_count": 19,
      "outputs": []
    },
    {
      "source": [
        "from IPython import get_ipython\n",
        "from IPython.display import display\n",
        "# %%\n",
        "import requests\n",
        "from bs4 import BeautifulSoup\n",
        "# %%\n",
        "r = requests.get('https://free-proxy-list.net/')\n",
        "soup = BeautifulSoup(r.content, 'html.parser')\n",
        "# %%\n",
        "entries = []\n",
        "table = soup.find('table', class_ = 'table table-striped table-bordered')\n",
        "# %%\n",
        "table_rows = table.find_all('tr')\n",
        "table_rows = table_rows[1:]\n",
        "\n",
        "# %%\n",
        "for row in table_rows:\n",
        "\n",
        "  tds = row.find_all('td')\n",
        "  entry = {'IP':tds[0].text,'Port':tds[1].text,'Code':tds[2].text,'Country':tds[3].text,'Anonymity':tds[4].text,'Google':tds[5].text,'Https':tds[6].text,'Last Checked':tds[7].text}\n",
        "  full_ip = ''\n",
        "  if entry['Https'] == 'yes':\n",
        "    full_ip+='https://'\n",
        "  elif entry['Https'] == 'no':\n",
        "    full_ip+='http://'\n",
        "  full_ip = full_ip + entry['IP'] + ':' + entry['Port']\n",
        "  entry['Full IP'] = full_ip\n",
        "  entries.append(entry)\n",
        "# %%\n",
        "import pandas as pd\n",
        "\n",
        "# Create the DataFrame directly from the list of dictionaries\n",
        "# This is more efficient than appending in a loop, especially in newer pandas versions\n",
        "df = pd.DataFrame(entries)\n",
        "\n",
        "# %%\n",
        "# No need to append in a loop anymore as the DataFrame is created from the full list\n",
        "# for e in entries:\n",
        "#   df = df.append(e,ignore_index = True)\n",
        "# %%\n",
        "df\n",
        "# %%\n",
        "google_http_anonym = df[(df['Google']=='yes') & (df['Https']=='no') & (df['Anonymity']=='anonymous')]\n",
        "# %%\n",
        "ip_list = google_http_anonym['Full IP'].tolist()\n",
        "ip_list"
      ],
      "cell_type": "code",
      "metadata": {
        "id": "lSzKZmFmhsBt",
        "outputId": "f8e99475-6d33-4b64-9b3f-ad29545a9e64",
        "colab": {
          "base_uri": "https://localhost:8080/"
        }
      },
      "execution_count": 20,
      "outputs": [
        {
          "output_type": "execute_result",
          "data": {
            "text/plain": [
              "['http://190.103.177.131:80',\n",
              " 'http://160.251.142.232:80',\n",
              " 'http://219.65.73.81:80',\n",
              " 'http://209.135.168.41:80',\n",
              " 'http://103.130.145.197:80',\n",
              " 'http://91.99.78.151:80',\n",
              " 'http://41.191.203.161:80',\n",
              " 'http://108.141.130.146:80',\n",
              " 'http://82.102.10.253:80',\n",
              " 'http://91.103.120.48:80',\n",
              " 'http://103.75.119.185:80',\n",
              " 'http://143.42.66.91:80',\n",
              " 'http://181.41.194.186:80',\n",
              " 'http://151.236.24.38:80',\n",
              " 'http://41.59.90.175:80']"
            ]
          },
          "metadata": {},
          "execution_count": 20
        }
      ]
    }
  ]
}